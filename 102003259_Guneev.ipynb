{
  "cells": [
    {
      "cell_type": "markdown",
      "metadata": {
        "id": "gxWQlphs0IQO"
      },
      "source": [
        "Q1\n"
      ]
    },
    {
      "cell_type": "code",
      "execution_count": 125,
      "metadata": {
        "id": "GfjoDDMtX5Lk"
      },
      "outputs": [],
      "source": [
        "import numpy as np\n",
        "import pandas as pd"
      ]
    },
    {
      "cell_type": "code",
      "execution_count": 126,
      "metadata": {
        "id": "jKoRd4yXX-v3"
      },
      "outputs": [],
      "source": [
        "df = pd.read_csv('/content/drive/MyDrive/ML_Lab/iris_csv.csv')\n"
      ]
    },
    {
      "cell_type": "code",
      "execution_count": 127,
      "metadata": {
        "colab": {
          "base_uri": "https://localhost:8080/"
        },
        "id": "1vk2VDgoYuCf",
        "outputId": "1b2b0f7f-b585-4c0c-e20e-0848ed5bc024"
      },
      "outputs": [
        {
          "name": "stdout",
          "output_type": "stream",
          "text": [
            "<class 'pandas.core.frame.DataFrame'>\n",
            "RangeIndex: 150 entries, 0 to 149\n",
            "Data columns (total 5 columns):\n",
            " #   Column       Non-Null Count  Dtype  \n",
            "---  ------       --------------  -----  \n",
            " 0   sepallength  150 non-null    float64\n",
            " 1   sepalwidth   150 non-null    float64\n",
            " 2   petallength  150 non-null    float64\n",
            " 3   petalwidth   150 non-null    float64\n",
            " 4   class        150 non-null    object \n",
            "dtypes: float64(4), object(1)\n",
            "memory usage: 6.0+ KB\n"
          ]
        }
      ],
      "source": [
        "df.info()"
      ]
    },
    {
      "cell_type": "code",
      "execution_count": 128,
      "metadata": {
        "colab": {
          "base_uri": "https://localhost:8080/",
          "height": 206
        },
        "id": "c-aP7shzY0Kj",
        "outputId": "edcae394-5d72-4e47-ff7d-cdb5ceb2af6b"
      },
      "outputs": [
        {
          "data": {
            "text/html": [
              "\n",
              "  <div id=\"df-066d38a1-2e10-4dfe-8625-db8f07bf8566\">\n",
              "    <div class=\"colab-df-container\">\n",
              "      <div>\n",
              "<style scoped>\n",
              "    .dataframe tbody tr th:only-of-type {\n",
              "        vertical-align: middle;\n",
              "    }\n",
              "\n",
              "    .dataframe tbody tr th {\n",
              "        vertical-align: top;\n",
              "    }\n",
              "\n",
              "    .dataframe thead th {\n",
              "        text-align: right;\n",
              "    }\n",
              "</style>\n",
              "<table border=\"1\" class=\"dataframe\">\n",
              "  <thead>\n",
              "    <tr style=\"text-align: right;\">\n",
              "      <th></th>\n",
              "      <th>sepallength</th>\n",
              "      <th>sepalwidth</th>\n",
              "      <th>petallength</th>\n",
              "      <th>petalwidth</th>\n",
              "      <th>class</th>\n",
              "    </tr>\n",
              "  </thead>\n",
              "  <tbody>\n",
              "    <tr>\n",
              "      <th>0</th>\n",
              "      <td>5.1</td>\n",
              "      <td>3.5</td>\n",
              "      <td>1.4</td>\n",
              "      <td>0.2</td>\n",
              "      <td>Iris-setosa</td>\n",
              "    </tr>\n",
              "    <tr>\n",
              "      <th>1</th>\n",
              "      <td>4.9</td>\n",
              "      <td>3.0</td>\n",
              "      <td>1.4</td>\n",
              "      <td>0.2</td>\n",
              "      <td>Iris-setosa</td>\n",
              "    </tr>\n",
              "    <tr>\n",
              "      <th>2</th>\n",
              "      <td>4.7</td>\n",
              "      <td>3.2</td>\n",
              "      <td>1.3</td>\n",
              "      <td>0.2</td>\n",
              "      <td>Iris-setosa</td>\n",
              "    </tr>\n",
              "    <tr>\n",
              "      <th>3</th>\n",
              "      <td>4.6</td>\n",
              "      <td>3.1</td>\n",
              "      <td>1.5</td>\n",
              "      <td>0.2</td>\n",
              "      <td>Iris-setosa</td>\n",
              "    </tr>\n",
              "    <tr>\n",
              "      <th>4</th>\n",
              "      <td>5.0</td>\n",
              "      <td>3.6</td>\n",
              "      <td>1.4</td>\n",
              "      <td>0.2</td>\n",
              "      <td>Iris-setosa</td>\n",
              "    </tr>\n",
              "  </tbody>\n",
              "</table>\n",
              "</div>\n",
              "      <button class=\"colab-df-convert\" onclick=\"convertToInteractive('df-066d38a1-2e10-4dfe-8625-db8f07bf8566')\"\n",
              "              title=\"Convert this dataframe to an interactive table.\"\n",
              "              style=\"display:none;\">\n",
              "        \n",
              "  <svg xmlns=\"http://www.w3.org/2000/svg\" height=\"24px\"viewBox=\"0 0 24 24\"\n",
              "       width=\"24px\">\n",
              "    <path d=\"M0 0h24v24H0V0z\" fill=\"none\"/>\n",
              "    <path d=\"M18.56 5.44l.94 2.06.94-2.06 2.06-.94-2.06-.94-.94-2.06-.94 2.06-2.06.94zm-11 1L8.5 8.5l.94-2.06 2.06-.94-2.06-.94L8.5 2.5l-.94 2.06-2.06.94zm10 10l.94 2.06.94-2.06 2.06-.94-2.06-.94-.94-2.06-.94 2.06-2.06.94z\"/><path d=\"M17.41 7.96l-1.37-1.37c-.4-.4-.92-.59-1.43-.59-.52 0-1.04.2-1.43.59L10.3 9.45l-7.72 7.72c-.78.78-.78 2.05 0 2.83L4 21.41c.39.39.9.59 1.41.59.51 0 1.02-.2 1.41-.59l7.78-7.78 2.81-2.81c.8-.78.8-2.07 0-2.86zM5.41 20L4 18.59l7.72-7.72 1.47 1.35L5.41 20z\"/>\n",
              "  </svg>\n",
              "      </button>\n",
              "      \n",
              "  <style>\n",
              "    .colab-df-container {\n",
              "      display:flex;\n",
              "      flex-wrap:wrap;\n",
              "      gap: 12px;\n",
              "    }\n",
              "\n",
              "    .colab-df-convert {\n",
              "      background-color: #E8F0FE;\n",
              "      border: none;\n",
              "      border-radius: 50%;\n",
              "      cursor: pointer;\n",
              "      display: none;\n",
              "      fill: #1967D2;\n",
              "      height: 32px;\n",
              "      padding: 0 0 0 0;\n",
              "      width: 32px;\n",
              "    }\n",
              "\n",
              "    .colab-df-convert:hover {\n",
              "      background-color: #E2EBFA;\n",
              "      box-shadow: 0px 1px 2px rgba(60, 64, 67, 0.3), 0px 1px 3px 1px rgba(60, 64, 67, 0.15);\n",
              "      fill: #174EA6;\n",
              "    }\n",
              "\n",
              "    [theme=dark] .colab-df-convert {\n",
              "      background-color: #3B4455;\n",
              "      fill: #D2E3FC;\n",
              "    }\n",
              "\n",
              "    [theme=dark] .colab-df-convert:hover {\n",
              "      background-color: #434B5C;\n",
              "      box-shadow: 0px 1px 3px 1px rgba(0, 0, 0, 0.15);\n",
              "      filter: drop-shadow(0px 1px 2px rgba(0, 0, 0, 0.3));\n",
              "      fill: #FFFFFF;\n",
              "    }\n",
              "  </style>\n",
              "\n",
              "      <script>\n",
              "        const buttonEl =\n",
              "          document.querySelector('#df-066d38a1-2e10-4dfe-8625-db8f07bf8566 button.colab-df-convert');\n",
              "        buttonEl.style.display =\n",
              "          google.colab.kernel.accessAllowed ? 'block' : 'none';\n",
              "\n",
              "        async function convertToInteractive(key) {\n",
              "          const element = document.querySelector('#df-066d38a1-2e10-4dfe-8625-db8f07bf8566');\n",
              "          const dataTable =\n",
              "            await google.colab.kernel.invokeFunction('convertToInteractive',\n",
              "                                                     [key], {});\n",
              "          if (!dataTable) return;\n",
              "\n",
              "          const docLinkHtml = 'Like what you see? Visit the ' +\n",
              "            '<a target=\"_blank\" href=https://colab.research.google.com/notebooks/data_table.ipynb>data table notebook</a>'\n",
              "            + ' to learn more about interactive tables.';\n",
              "          element.innerHTML = '';\n",
              "          dataTable['output_type'] = 'display_data';\n",
              "          await google.colab.output.renderOutput(dataTable, element);\n",
              "          const docLink = document.createElement('div');\n",
              "          docLink.innerHTML = docLinkHtml;\n",
              "          element.appendChild(docLink);\n",
              "        }\n",
              "      </script>\n",
              "    </div>\n",
              "  </div>\n",
              "  "
            ],
            "text/plain": [
              "   sepallength  sepalwidth  petallength  petalwidth        class\n",
              "0          5.1         3.5          1.4         0.2  Iris-setosa\n",
              "1          4.9         3.0          1.4         0.2  Iris-setosa\n",
              "2          4.7         3.2          1.3         0.2  Iris-setosa\n",
              "3          4.6         3.1          1.5         0.2  Iris-setosa\n",
              "4          5.0         3.6          1.4         0.2  Iris-setosa"
            ]
          },
          "execution_count": 128,
          "metadata": {},
          "output_type": "execute_result"
        }
      ],
      "source": [
        "df.head()"
      ]
    },
    {
      "cell_type": "code",
      "execution_count": 129,
      "metadata": {
        "colab": {
          "base_uri": "https://localhost:8080/"
        },
        "id": "LYtKqxCLY-x1",
        "outputId": "a9e6c874-215a-47fb-f3b3-321e82647fa7"
      },
      "outputs": [
        {
          "data": {
            "text/plain": [
              "array(['Iris-setosa', 'Iris-versicolor', 'Iris-virginica'], dtype=object)"
            ]
          },
          "execution_count": 129,
          "metadata": {},
          "output_type": "execute_result"
        }
      ],
      "source": [
        "df.iloc[:,4].unique()"
      ]
    },
    {
      "cell_type": "code",
      "execution_count": 130,
      "metadata": {
        "colab": {
          "base_uri": "https://localhost:8080/"
        },
        "id": "ucyvti_gZHau",
        "outputId": "57831729-3cfb-4207-af42-ed7f5b9c6f31"
      },
      "outputs": [
        {
          "data": {
            "text/plain": [
              "sepallength    0\n",
              "sepalwidth     0\n",
              "petallength    0\n",
              "petalwidth     0\n",
              "class          0\n",
              "dtype: int64"
            ]
          },
          "execution_count": 130,
          "metadata": {},
          "output_type": "execute_result"
        }
      ],
      "source": [
        "df.isna().sum()"
      ]
    },
    {
      "cell_type": "code",
      "execution_count": 131,
      "metadata": {
        "id": "If-2UIH4ZgTu"
      },
      "outputs": [],
      "source": [
        "df_setosa = df.copy()\n",
        "df_versicolor = df.copy()\n",
        "df_virginica = df.copy()\n",
        "datasets = [df_setosa, df_versicolor, df_virginica]"
      ]
    },
    {
      "cell_type": "code",
      "execution_count": 132,
      "metadata": {
        "id": "l84-rHY6ZwZc"
      },
      "outputs": [],
      "source": [
        "classes = [\"Iris-setosa\",\"Iris-versicolor\",\"Iris-virginica\"]\n",
        "m = len(df)\n",
        "\n",
        "for i in range(3):\n",
        "  for j in range(m):\n",
        "    if datasets[i].iloc[j,4] == classes[i]:\n",
        "      datasets[i].iloc[j,4] = 1\n",
        "    else:\n",
        "      datasets[i].iloc[j,4] = 0"
      ]
    },
    {
      "cell_type": "code",
      "execution_count": 133,
      "metadata": {
        "colab": {
          "base_uri": "https://localhost:8080/",
          "height": 424
        },
        "id": "zqNItWO6t0g8",
        "outputId": "de76f5ae-2e76-4dcc-e1d0-7d6848cb48a2"
      },
      "outputs": [
        {
          "data": {
            "text/html": [
              "\n",
              "  <div id=\"df-59226511-a3ae-4e63-bee0-6f1da5172729\">\n",
              "    <div class=\"colab-df-container\">\n",
              "      <div>\n",
              "<style scoped>\n",
              "    .dataframe tbody tr th:only-of-type {\n",
              "        vertical-align: middle;\n",
              "    }\n",
              "\n",
              "    .dataframe tbody tr th {\n",
              "        vertical-align: top;\n",
              "    }\n",
              "\n",
              "    .dataframe thead th {\n",
              "        text-align: right;\n",
              "    }\n",
              "</style>\n",
              "<table border=\"1\" class=\"dataframe\">\n",
              "  <thead>\n",
              "    <tr style=\"text-align: right;\">\n",
              "      <th></th>\n",
              "      <th>sepallength</th>\n",
              "      <th>sepalwidth</th>\n",
              "      <th>petallength</th>\n",
              "      <th>petalwidth</th>\n",
              "      <th>class</th>\n",
              "    </tr>\n",
              "  </thead>\n",
              "  <tbody>\n",
              "    <tr>\n",
              "      <th>0</th>\n",
              "      <td>5.1</td>\n",
              "      <td>3.5</td>\n",
              "      <td>1.4</td>\n",
              "      <td>0.2</td>\n",
              "      <td>Iris-setosa</td>\n",
              "    </tr>\n",
              "    <tr>\n",
              "      <th>1</th>\n",
              "      <td>4.9</td>\n",
              "      <td>3.0</td>\n",
              "      <td>1.4</td>\n",
              "      <td>0.2</td>\n",
              "      <td>Iris-setosa</td>\n",
              "    </tr>\n",
              "    <tr>\n",
              "      <th>2</th>\n",
              "      <td>4.7</td>\n",
              "      <td>3.2</td>\n",
              "      <td>1.3</td>\n",
              "      <td>0.2</td>\n",
              "      <td>Iris-setosa</td>\n",
              "    </tr>\n",
              "    <tr>\n",
              "      <th>3</th>\n",
              "      <td>4.6</td>\n",
              "      <td>3.1</td>\n",
              "      <td>1.5</td>\n",
              "      <td>0.2</td>\n",
              "      <td>Iris-setosa</td>\n",
              "    </tr>\n",
              "    <tr>\n",
              "      <th>4</th>\n",
              "      <td>5.0</td>\n",
              "      <td>3.6</td>\n",
              "      <td>1.4</td>\n",
              "      <td>0.2</td>\n",
              "      <td>Iris-setosa</td>\n",
              "    </tr>\n",
              "    <tr>\n",
              "      <th>...</th>\n",
              "      <td>...</td>\n",
              "      <td>...</td>\n",
              "      <td>...</td>\n",
              "      <td>...</td>\n",
              "      <td>...</td>\n",
              "    </tr>\n",
              "    <tr>\n",
              "      <th>145</th>\n",
              "      <td>6.7</td>\n",
              "      <td>3.0</td>\n",
              "      <td>5.2</td>\n",
              "      <td>2.3</td>\n",
              "      <td>Iris-virginica</td>\n",
              "    </tr>\n",
              "    <tr>\n",
              "      <th>146</th>\n",
              "      <td>6.3</td>\n",
              "      <td>2.5</td>\n",
              "      <td>5.0</td>\n",
              "      <td>1.9</td>\n",
              "      <td>Iris-virginica</td>\n",
              "    </tr>\n",
              "    <tr>\n",
              "      <th>147</th>\n",
              "      <td>6.5</td>\n",
              "      <td>3.0</td>\n",
              "      <td>5.2</td>\n",
              "      <td>2.0</td>\n",
              "      <td>Iris-virginica</td>\n",
              "    </tr>\n",
              "    <tr>\n",
              "      <th>148</th>\n",
              "      <td>6.2</td>\n",
              "      <td>3.4</td>\n",
              "      <td>5.4</td>\n",
              "      <td>2.3</td>\n",
              "      <td>Iris-virginica</td>\n",
              "    </tr>\n",
              "    <tr>\n",
              "      <th>149</th>\n",
              "      <td>5.9</td>\n",
              "      <td>3.0</td>\n",
              "      <td>5.1</td>\n",
              "      <td>1.8</td>\n",
              "      <td>Iris-virginica</td>\n",
              "    </tr>\n",
              "  </tbody>\n",
              "</table>\n",
              "<p>150 rows × 5 columns</p>\n",
              "</div>\n",
              "      <button class=\"colab-df-convert\" onclick=\"convertToInteractive('df-59226511-a3ae-4e63-bee0-6f1da5172729')\"\n",
              "              title=\"Convert this dataframe to an interactive table.\"\n",
              "              style=\"display:none;\">\n",
              "        \n",
              "  <svg xmlns=\"http://www.w3.org/2000/svg\" height=\"24px\"viewBox=\"0 0 24 24\"\n",
              "       width=\"24px\">\n",
              "    <path d=\"M0 0h24v24H0V0z\" fill=\"none\"/>\n",
              "    <path d=\"M18.56 5.44l.94 2.06.94-2.06 2.06-.94-2.06-.94-.94-2.06-.94 2.06-2.06.94zm-11 1L8.5 8.5l.94-2.06 2.06-.94-2.06-.94L8.5 2.5l-.94 2.06-2.06.94zm10 10l.94 2.06.94-2.06 2.06-.94-2.06-.94-.94-2.06-.94 2.06-2.06.94z\"/><path d=\"M17.41 7.96l-1.37-1.37c-.4-.4-.92-.59-1.43-.59-.52 0-1.04.2-1.43.59L10.3 9.45l-7.72 7.72c-.78.78-.78 2.05 0 2.83L4 21.41c.39.39.9.59 1.41.59.51 0 1.02-.2 1.41-.59l7.78-7.78 2.81-2.81c.8-.78.8-2.07 0-2.86zM5.41 20L4 18.59l7.72-7.72 1.47 1.35L5.41 20z\"/>\n",
              "  </svg>\n",
              "      </button>\n",
              "      \n",
              "  <style>\n",
              "    .colab-df-container {\n",
              "      display:flex;\n",
              "      flex-wrap:wrap;\n",
              "      gap: 12px;\n",
              "    }\n",
              "\n",
              "    .colab-df-convert {\n",
              "      background-color: #E8F0FE;\n",
              "      border: none;\n",
              "      border-radius: 50%;\n",
              "      cursor: pointer;\n",
              "      display: none;\n",
              "      fill: #1967D2;\n",
              "      height: 32px;\n",
              "      padding: 0 0 0 0;\n",
              "      width: 32px;\n",
              "    }\n",
              "\n",
              "    .colab-df-convert:hover {\n",
              "      background-color: #E2EBFA;\n",
              "      box-shadow: 0px 1px 2px rgba(60, 64, 67, 0.3), 0px 1px 3px 1px rgba(60, 64, 67, 0.15);\n",
              "      fill: #174EA6;\n",
              "    }\n",
              "\n",
              "    [theme=dark] .colab-df-convert {\n",
              "      background-color: #3B4455;\n",
              "      fill: #D2E3FC;\n",
              "    }\n",
              "\n",
              "    [theme=dark] .colab-df-convert:hover {\n",
              "      background-color: #434B5C;\n",
              "      box-shadow: 0px 1px 3px 1px rgba(0, 0, 0, 0.15);\n",
              "      filter: drop-shadow(0px 1px 2px rgba(0, 0, 0, 0.3));\n",
              "      fill: #FFFFFF;\n",
              "    }\n",
              "  </style>\n",
              "\n",
              "      <script>\n",
              "        const buttonEl =\n",
              "          document.querySelector('#df-59226511-a3ae-4e63-bee0-6f1da5172729 button.colab-df-convert');\n",
              "        buttonEl.style.display =\n",
              "          google.colab.kernel.accessAllowed ? 'block' : 'none';\n",
              "\n",
              "        async function convertToInteractive(key) {\n",
              "          const element = document.querySelector('#df-59226511-a3ae-4e63-bee0-6f1da5172729');\n",
              "          const dataTable =\n",
              "            await google.colab.kernel.invokeFunction('convertToInteractive',\n",
              "                                                     [key], {});\n",
              "          if (!dataTable) return;\n",
              "\n",
              "          const docLinkHtml = 'Like what you see? Visit the ' +\n",
              "            '<a target=\"_blank\" href=https://colab.research.google.com/notebooks/data_table.ipynb>data table notebook</a>'\n",
              "            + ' to learn more about interactive tables.';\n",
              "          element.innerHTML = '';\n",
              "          dataTable['output_type'] = 'display_data';\n",
              "          await google.colab.output.renderOutput(dataTable, element);\n",
              "          const docLink = document.createElement('div');\n",
              "          docLink.innerHTML = docLinkHtml;\n",
              "          element.appendChild(docLink);\n",
              "        }\n",
              "      </script>\n",
              "    </div>\n",
              "  </div>\n",
              "  "
            ],
            "text/plain": [
              "     sepallength  sepalwidth  petallength  petalwidth           class\n",
              "0            5.1         3.5          1.4         0.2     Iris-setosa\n",
              "1            4.9         3.0          1.4         0.2     Iris-setosa\n",
              "2            4.7         3.2          1.3         0.2     Iris-setosa\n",
              "3            4.6         3.1          1.5         0.2     Iris-setosa\n",
              "4            5.0         3.6          1.4         0.2     Iris-setosa\n",
              "..           ...         ...          ...         ...             ...\n",
              "145          6.7         3.0          5.2         2.3  Iris-virginica\n",
              "146          6.3         2.5          5.0         1.9  Iris-virginica\n",
              "147          6.5         3.0          5.2         2.0  Iris-virginica\n",
              "148          6.2         3.4          5.4         2.3  Iris-virginica\n",
              "149          5.9         3.0          5.1         1.8  Iris-virginica\n",
              "\n",
              "[150 rows x 5 columns]"
            ]
          },
          "execution_count": 133,
          "metadata": {},
          "output_type": "execute_result"
        }
      ],
      "source": [
        "df"
      ]
    },
    {
      "cell_type": "code",
      "execution_count": 134,
      "metadata": {
        "colab": {
          "base_uri": "https://localhost:8080/"
        },
        "id": "jda4CbSFann9",
        "outputId": "8433fcce-8c67-4e76-a10d-36722dcb89c9"
      },
      "outputs": [
        {
          "data": {
            "text/plain": [
              "0    100\n",
              "1     50\n",
              "Name: class, dtype: int64"
            ]
          },
          "execution_count": 134,
          "metadata": {},
          "output_type": "execute_result"
        }
      ],
      "source": [
        "datasets[1].iloc[:,4].value_counts()"
      ]
    },
    {
      "cell_type": "code",
      "execution_count": 135,
      "metadata": {
        "id": "s1oaITSvbEPM"
      },
      "outputs": [],
      "source": [
        "from sklearn.preprocessing import StandardScaler\n",
        "from sklearn.model_selection import train_test_split\n",
        "data_split = {}\n",
        "for i in range(3):\n",
        "  x = datasets[i].iloc[:,:4]\n",
        "  y = datasets[i].iloc[:,4]\n",
        "  scaler = StandardScaler()\n",
        "  x_scaled = scaler.fit_transform(x)\n",
        "  x_scaled = np.insert(x_scaled,0,values=1,axis=1)\n",
        "  x_train,x_test,y_train,y_test = train_test_split(x_scaled,y,test_size=0.3,random_state=42)\n",
        "  data_split[classes[i]] = [x_train,x_test,y_train,y_test]"
      ]
    },
    {
      "cell_type": "code",
      "execution_count": 136,
      "metadata": {
        "colab": {
          "base_uri": "https://localhost:8080/"
        },
        "id": "arh_EYwYdRkT",
        "outputId": "e001f53d-93d6-4172-d159-0a16d1319a16"
      },
      "outputs": [
        {
          "data": {
            "text/plain": [
              "array([[ 1.00000000e+00, -4.16009689e-01, -1.51337539e+00,\n",
              "        -3.33612130e-02, -2.61192967e-01],\n",
              "       [ 1.00000000e+00,  5.53333275e-01, -5.87763531e-01,\n",
              "         7.62758643e-01,  3.96171883e-01],\n",
              "       [ 1.00000000e+00,  6.74501145e-01,  1.06445364e-01,\n",
              "         9.90221459e-01,  7.90590793e-01],\n",
              "       [ 1.00000000e+00,  9.16836886e-01, -1.24957601e-01,\n",
              "         3.64698715e-01,  2.64698913e-01],\n",
              "       [ 1.00000000e+00,  1.64384411e+00,  1.26346019e+00,\n",
              "         1.33141568e+00,  1.71090158e+00],\n",
              "       [ 1.00000000e+00, -1.73673948e-01, -3.56360566e-01,\n",
              "         2.50967307e-01,  1.33225943e-01],\n",
              "       [ 1.00000000e+00,  2.12851559e+00, -1.24957601e-01,\n",
              "         1.61574420e+00,  1.18500970e+00],\n",
              "       [ 1.00000000e+00, -2.94841818e-01, -1.24957601e-01,\n",
              "         4.21564419e-01,  3.96171883e-01],\n",
              "       [ 1.00000000e+00, -9.00681170e-01,  1.03205722e+00,\n",
              "        -1.34127240e+00, -1.31297673e+00],\n",
              "       [ 1.00000000e+00,  2.24968346e+00, -5.87763531e-01,\n",
              "         1.67260991e+00,  1.05353673e+00],\n",
              "       [ 1.00000000e+00, -5.25060772e-02, -8.19166497e-01,\n",
              "         1.94101603e-01, -2.61192967e-01],\n",
              "       [ 1.00000000e+00, -7.79513300e-01,  8.00654259e-01,\n",
              "        -1.34127240e+00, -1.31297673e+00],\n",
              "       [ 1.00000000e+00, -1.02184904e+00,  1.03205722e+00,\n",
              "        -1.39813811e+00, -1.18150376e+00],\n",
              "       [ 1.00000000e+00, -9.00681170e-01,  1.72626612e+00,\n",
              "        -1.05694388e+00, -1.05003079e+00],\n",
              "       [ 1.00000000e+00, -1.02184904e+00, -2.43898725e+00,\n",
              "        -1.47092621e-01, -2.61192967e-01],\n",
              "       [ 1.00000000e+00,  5.53333275e-01, -8.19166497e-01,\n",
              "         6.49027235e-01,  7.90590793e-01],\n",
              "       [ 1.00000000e+00, -1.26418478e+00,  8.00654259e-01,\n",
              "        -1.05694388e+00, -1.31297673e+00],\n",
              "       [ 1.00000000e+00, -1.02184904e+00, -1.24957601e-01,\n",
              "        -1.22754100e+00, -1.31297673e+00],\n",
              "       [ 1.00000000e+00, -9.00681170e-01,  5.69251294e-01,\n",
              "        -1.17067529e+00, -9.18557817e-01],\n",
              "       [ 1.00000000e+00, -2.94841818e-01, -8.19166497e-01,\n",
              "         2.50967307e-01,  1.33225943e-01],\n",
              "       [ 1.00000000e+00, -9.00681170e-01,  8.00654259e-01,\n",
              "        -1.28440670e+00, -1.31297673e+00],\n",
              "       [ 1.00000000e+00, -1.73673948e-01, -1.24957601e-01,\n",
              "         2.50967307e-01,  1.75297293e-03],\n",
              "       [ 1.00000000e+00,  2.24968346e+00,  1.72626612e+00,\n",
              "         1.67260991e+00,  1.31648267e+00],\n",
              "       [ 1.00000000e+00, -1.50652052e+00,  3.37848329e-01,\n",
              "        -1.34127240e+00, -1.31297673e+00],\n",
              "       [ 1.00000000e+00,  4.32165405e-01, -3.56360566e-01,\n",
              "         3.07833011e-01,  1.33225943e-01],\n",
              "       [ 1.00000000e+00, -1.73673948e-01, -1.28197243e+00,\n",
              "         7.05892939e-01,  1.05353673e+00],\n",
              "       [ 1.00000000e+00, -4.16009689e-01,  2.65187798e+00,\n",
              "        -1.34127240e+00, -1.31297673e+00],\n",
              "       [ 1.00000000e+00,  1.89829664e-01, -1.24957601e-01,\n",
              "         5.92161531e-01,  7.90590793e-01],\n",
              "       [ 1.00000000e+00, -5.25060772e-02, -8.19166497e-01,\n",
              "         7.62758643e-01,  9.22063763e-01],\n",
              "       [ 1.00000000e+00,  1.89829664e-01, -1.97618132e+00,\n",
              "         1.37235899e-01, -2.61192967e-01],\n",
              "       [ 1.00000000e+00, -5.37177559e-01, -1.24957601e-01,\n",
              "         4.21564419e-01,  3.96171883e-01],\n",
              "       [ 1.00000000e+00,  4.32165405e-01,  8.00654259e-01,\n",
              "         9.33355755e-01,  1.44795564e+00],\n",
              "       [ 1.00000000e+00, -4.16009689e-01, -1.74477836e+00,\n",
              "         1.37235899e-01,  1.33225943e-01],\n",
              "       [ 1.00000000e+00, -5.37177559e-01,  1.95766909e+00,\n",
              "        -1.17067529e+00, -1.05003079e+00],\n",
              "       [ 1.00000000e+00, -1.02184904e+00, -1.74477836e+00,\n",
              "        -2.60824029e-01, -2.61192967e-01],\n",
              "       [ 1.00000000e+00,  6.74501145e-01, -8.19166497e-01,\n",
              "         8.76490051e-01,  9.22063763e-01],\n",
              "       [ 1.00000000e+00, -1.02184904e+00,  5.69251294e-01,\n",
              "        -1.34127240e+00, -1.31297673e+00],\n",
              "       [ 1.00000000e+00, -1.02184904e+00,  3.37848329e-01,\n",
              "        -1.45500381e+00, -1.31297673e+00],\n",
              "       [ 1.00000000e+00, -4.16009689e-01, -1.51337539e+00,\n",
              "         2.35044910e-02, -1.29719997e-01],\n",
              "       [ 1.00000000e+00,  1.03800476e+00, -1.24957601e-01,\n",
              "         7.05892939e-01,  6.59117823e-01],\n",
              "       [ 1.00000000e+00, -1.14301691e+00,  1.06445364e-01,\n",
              "        -1.28440670e+00, -1.44444970e+00],\n",
              "       [ 1.00000000e+00, -5.25060772e-02, -5.87763531e-01,\n",
              "         7.62758643e-01,  1.57942861e+00],\n",
              "       [ 1.00000000e+00, -1.02184904e+00,  8.00654259e-01,\n",
              "        -1.28440670e+00, -1.31297673e+00],\n",
              "       [ 1.00000000e+00, -1.02184904e+00,  1.03205722e+00,\n",
              "        -1.22754100e+00, -7.87084847e-01],\n",
              "       [ 1.00000000e+00,  6.86617933e-02,  3.37848329e-01,\n",
              "         5.92161531e-01,  7.90590793e-01],\n",
              "       [ 1.00000000e+00, -9.00681170e-01, -1.28197243e+00,\n",
              "        -4.31421141e-01, -1.29719997e-01],\n",
              "       [ 1.00000000e+00,  1.28034050e+00,  3.37848329e-01,\n",
              "         1.10395287e+00,  1.44795564e+00],\n",
              "       [ 1.00000000e+00,  1.89829664e-01, -8.19166497e-01,\n",
              "         7.62758643e-01,  5.27644853e-01],\n",
              "       [ 1.00000000e+00,  3.10997534e-01, -1.05056946e+00,\n",
              "         1.04708716e+00,  2.64698913e-01],\n",
              "       [ 1.00000000e+00,  2.24968346e+00, -1.24957601e-01,\n",
              "         1.33141568e+00,  1.44795564e+00],\n",
              "       [ 1.00000000e+00, -4.16009689e-01, -1.28197243e+00,\n",
              "         1.37235899e-01,  1.33225943e-01],\n",
              "       [ 1.00000000e+00, -1.74885626e+00, -3.56360566e-01,\n",
              "        -1.34127240e+00, -1.31297673e+00],\n",
              "       [ 1.00000000e+00, -1.87002413e+00, -1.24957601e-01,\n",
              "        -1.51186952e+00, -1.44444970e+00],\n",
              "       [ 1.00000000e+00,  1.89829664e-01, -1.97618132e+00,\n",
              "         7.05892939e-01,  3.96171883e-01],\n",
              "       [ 1.00000000e+00,  1.64384411e+00,  3.37848329e-01,\n",
              "         1.27454998e+00,  7.90590793e-01],\n",
              "       [ 1.00000000e+00, -1.50652052e+00,  1.06445364e-01,\n",
              "        -1.28440670e+00, -1.31297673e+00],\n",
              "       [ 1.00000000e+00, -9.00681170e-01,  1.03205722e+00,\n",
              "        -1.34127240e+00, -1.18150376e+00],\n",
              "       [ 1.00000000e+00, -1.74885626e+00, -1.24957601e-01,\n",
              "        -1.39813811e+00, -1.31297673e+00],\n",
              "       [ 1.00000000e+00,  5.53333275e-01, -1.28197243e+00,\n",
              "         6.49027235e-01,  3.96171883e-01],\n",
              "       [ 1.00000000e+00,  5.53333275e-01,  8.00654259e-01,\n",
              "         1.04708716e+00,  1.57942861e+00],\n",
              "       [ 1.00000000e+00, -1.50652052e+00,  8.00654259e-01,\n",
              "        -1.34127240e+00, -1.18150376e+00],\n",
              "       [ 1.00000000e+00,  1.15917263e+00, -1.24957601e-01,\n",
              "         9.90221459e-01,  1.18500970e+00],\n",
              "       [ 1.00000000e+00,  5.53333275e-01,  5.69251294e-01,\n",
              "         1.27454998e+00,  1.71090158e+00],\n",
              "       [ 1.00000000e+00, -1.38535265e+00,  3.37848329e-01,\n",
              "        -1.39813811e+00, -1.31297673e+00],\n",
              "       [ 1.00000000e+00,  3.10997534e-01, -3.56360566e-01,\n",
              "         5.35295827e-01,  2.64698913e-01],\n",
              "       [ 1.00000000e+00,  7.95669016e-01, -5.87763531e-01,\n",
              "         4.78430123e-01,  3.96171883e-01],\n",
              "       [ 1.00000000e+00,  4.32165405e-01, -5.87763531e-01,\n",
              "         5.92161531e-01,  7.90590793e-01],\n",
              "       [ 1.00000000e+00,  1.40150837e+00,  3.37848329e-01,\n",
              "         5.35295827e-01,  2.64698913e-01],\n",
              "       [ 1.00000000e+00,  6.74501145e-01,  3.37848329e-01,\n",
              "         8.76490051e-01,  1.44795564e+00],\n",
              "       [ 1.00000000e+00, -9.00681170e-01,  1.72626612e+00,\n",
              "        -1.22754100e+00, -1.31297673e+00],\n",
              "       [ 1.00000000e+00,  1.28034050e+00,  1.06445364e-01,\n",
              "         9.33355755e-01,  1.18500970e+00],\n",
              "       [ 1.00000000e+00,  6.86617933e-02, -1.24957601e-01,\n",
              "         2.50967307e-01,  3.96171883e-01],\n",
              "       [ 1.00000000e+00,  7.95669016e-01, -1.24957601e-01,\n",
              "         8.19624347e-01,  1.05353673e+00],\n",
              "       [ 1.00000000e+00, -1.73673948e-01, -1.05056946e+00,\n",
              "        -1.47092621e-01, -2.61192967e-01],\n",
              "       [ 1.00000000e+00, -7.79513300e-01, -8.19166497e-01,\n",
              "         8.03701950e-02,  2.64698913e-01],\n",
              "       [ 1.00000000e+00,  3.10997534e-01, -1.24957601e-01,\n",
              "         4.78430123e-01,  2.64698913e-01],\n",
              "       [ 1.00000000e+00, -1.62768839e+00, -1.74477836e+00,\n",
              "        -1.39813811e+00, -1.18150376e+00],\n",
              "       [ 1.00000000e+00,  9.16836886e-01, -3.56360566e-01,\n",
              "         4.78430123e-01,  1.33225943e-01],\n",
              "       [ 1.00000000e+00, -4.16009689e-01, -1.05056946e+00,\n",
              "         3.64698715e-01,  1.75297293e-03],\n",
              "       [ 1.00000000e+00, -6.58345429e-01,  1.49486315e+00,\n",
              "        -1.28440670e+00, -1.31297673e+00],\n",
              "       [ 1.00000000e+00, -2.94841818e-01, -1.24957601e-01,\n",
              "         1.94101603e-01,  1.33225943e-01],\n",
              "       [ 1.00000000e+00,  1.76501198e+00, -3.56360566e-01,\n",
              "         1.44514709e+00,  7.90590793e-01],\n",
              "       [ 1.00000000e+00,  1.03800476e+00,  5.69251294e-01,\n",
              "         1.10395287e+00,  1.18500970e+00],\n",
              "       [ 1.00000000e+00, -9.00681170e-01,  1.49486315e+00,\n",
              "        -1.28440670e+00, -1.05003079e+00],\n",
              "       [ 1.00000000e+00, -1.14301691e+00, -1.51337539e+00,\n",
              "        -2.60824029e-01, -2.61192967e-01],\n",
              "       [ 1.00000000e+00,  1.03800476e+00,  5.69251294e-01,\n",
              "         1.10395287e+00,  1.71090158e+00],\n",
              "       [ 1.00000000e+00,  1.64384411e+00, -1.24957601e-01,\n",
              "         1.16081857e+00,  5.27644853e-01],\n",
              "       [ 1.00000000e+00, -1.14301691e+00,  1.06445364e-01,\n",
              "        -1.28440670e+00, -1.44444970e+00],\n",
              "       [ 1.00000000e+00,  1.03800476e+00,  1.06445364e-01,\n",
              "         1.04708716e+00,  1.57942861e+00],\n",
              "       [ 1.00000000e+00, -1.14301691e+00, -1.24957601e-01,\n",
              "        -1.34127240e+00, -1.31297673e+00],\n",
              "       [ 1.00000000e+00,  1.28034050e+00,  1.06445364e-01,\n",
              "         6.49027235e-01,  3.96171883e-01],\n",
              "       [ 1.00000000e+00,  1.88617985e+00, -5.87763531e-01,\n",
              "         1.33141568e+00,  9.22063763e-01],\n",
              "       [ 1.00000000e+00,  5.53333275e-01, -3.56360566e-01,\n",
              "         1.04708716e+00,  7.90590793e-01],\n",
              "       [ 1.00000000e+00, -1.73673948e-01, -5.87763531e-01,\n",
              "         1.94101603e-01,  1.33225943e-01],\n",
              "       [ 1.00000000e+00,  7.95669016e-01, -1.24957601e-01,\n",
              "         9.90221459e-01,  7.90590793e-01],\n",
              "       [ 1.00000000e+00,  5.53333275e-01, -1.74477836e+00,\n",
              "         3.64698715e-01,  1.33225943e-01],\n",
              "       [ 1.00000000e+00,  6.74501145e-01, -3.56360566e-01,\n",
              "         3.07833011e-01,  1.33225943e-01],\n",
              "       [ 1.00000000e+00, -2.94841818e-01, -5.87763531e-01,\n",
              "         6.49027235e-01,  1.05353673e+00],\n",
              "       [ 1.00000000e+00,  6.86617933e-02, -1.24957601e-01,\n",
              "         7.62758643e-01,  7.90590793e-01],\n",
              "       [ 1.00000000e+00, -5.37177559e-01,  8.00654259e-01,\n",
              "        -1.17067529e+00, -1.31297673e+00],\n",
              "       [ 1.00000000e+00,  3.10997534e-01, -5.87763531e-01,\n",
              "         1.37235899e-01,  1.33225943e-01],\n",
              "       [ 1.00000000e+00, -1.14301691e+00, -1.28197243e+00,\n",
              "         4.21564419e-01,  6.59117823e-01],\n",
              "       [ 1.00000000e+00, -5.25060772e-02,  2.18907205e+00,\n",
              "        -1.45500381e+00, -1.31297673e+00],\n",
              "       [ 1.00000000e+00, -5.25060772e-02, -1.05056946e+00,\n",
              "         1.37235899e-01,  1.75297293e-03],\n",
              "       [ 1.00000000e+00,  1.52267624e+00, -1.24957601e-01,\n",
              "         1.21768427e+00,  1.18500970e+00]])"
            ]
          },
          "execution_count": 136,
          "metadata": {},
          "output_type": "execute_result"
        }
      ],
      "source": [
        "data_split[classes[0]][0]"
      ]
    },
    {
      "cell_type": "code",
      "execution_count": 137,
      "metadata": {
        "colab": {
          "base_uri": "https://localhost:8080/"
        },
        "id": "yqG7_kVfddyN",
        "outputId": "d0ee5e94-6bba-4bcd-b20a-34abff1960ed"
      },
      "outputs": [
        {
          "name": "stdout",
          "output_type": "stream",
          "text": [
            "[array([-0.8558931 , -0.6134613 ,  0.92596984, -1.04971059, -0.97348642]), array([-0.6921732 , -0.01674772, -0.98045542,  0.1583929 , -0.11211971]), array([-0.86376588,  0.57274881,  0.23536641,  0.79180772,  1.01087805])]\n"
          ]
        }
      ],
      "source": [
        "betas = []\n",
        "for i in range(3):\n",
        "  n = 1000\n",
        "  alpha = 0.01\n",
        "  m,k = data_split[classes[i]][0].shape\n",
        "  beta = np.zeros(k)\n",
        "  for j in range(n):\n",
        "    cost_gradient = np.zeros(k)\n",
        "    z = data_split[classes[i]][0].dot(beta)\n",
        "    predicted = 1/(1+np.exp(-z))\n",
        "    difference = predicted - data_split[classes[i]][2]\n",
        "    for l in range(k):\n",
        "      cost_gradient[l] = np.sum(difference.dot(data_split[classes[i]][0][:,l]))\n",
        "    for l in range(k):\n",
        "      beta[l] = beta[l] - (alpha/m)*cost_gradient[l]\n",
        "  betas.append(beta)\n",
        "print(betas)"
      ]
    },
    {
      "cell_type": "code",
      "execution_count": 138,
      "metadata": {
        "colab": {
          "base_uri": "https://localhost:8080/"
        },
        "id": "DDO_1LsxfQLW",
        "outputId": "789ce074-0a6e-4d67-f630-45ad69287daa"
      },
      "outputs": [
        {
          "data": {
            "text/plain": [
              "array([0., 1., 0., 0., 0., 1., 0., 0., 0., 0., 0., 1., 1., 1., 1., 0., 0.,\n",
              "       0., 0., 0., 1., 0., 1., 0., 0., 0., 0., 0., 1., 1., 1., 1., 0., 1.,\n",
              "       1., 0., 0., 1., 1., 1., 0., 0., 0., 1., 1.])"
            ]
          },
          "execution_count": 138,
          "metadata": {},
          "output_type": "execute_result"
        }
      ],
      "source": [
        "for i in range(3):\n",
        "  x_train = data_split[classes[i]][1]\n",
        "  y_predict = 1/(1+np.exp(-(x_train.dot(betas[i]))))\n",
        "  y_label = np.zeros(len(y_predict))\n",
        "  for j in range(len(y_predict)):\n",
        "    if(y_predict[j]>=0.5):\n",
        "      y_label[j]=1\n",
        "  data_split[classes[i]].append(y_label)\n",
        "  \n",
        "\n",
        "data_split[classes[0]][4]\n"
      ]
    },
    {
      "cell_type": "code",
      "execution_count": 139,
      "metadata": {
        "colab": {
          "base_uri": "https://localhost:8080/"
        },
        "id": "sfHFGl18j0RT",
        "outputId": "bc6b10c5-6530-4533-98da-6f19818e21ef"
      },
      "outputs": [
        {
          "name": "stdout",
          "output_type": "stream",
          "text": [
            "1.0\n",
            "0.6888888888888889\n",
            "0.8666666666666667\n"
          ]
        }
      ],
      "source": [
        "accuracies = []\n",
        "for i in range(3):\n",
        "  y_test = data_split[classes[i]][3]\n",
        "  y_label = data_split[classes[i]][4]\n",
        "\n",
        "  y_test = np.array(y_test).reshape(-1,1)\n",
        "  tp = 0\n",
        "  tn = 0\n",
        "  fp = 0\n",
        "  fn = 0\n",
        "\n",
        "  for j in range(len(y_label)):\n",
        "    if(y_test[j] ==1 and y_label[j]==1):\n",
        "      tp = tp+1\n",
        "    elif(y_test[j]==1 and y_label[j]==0):\n",
        "      fn = fn+1\n",
        "    elif(y_test[j]==0 and y_label[j]==0):\n",
        "      tn = tn+1\n",
        "    elif(y_test[j]==0 and y_label[j]==1):\n",
        "      fp = fp+1\n",
        "  accuracy = (tp+tn)/(tp+tn+fp+fn)\n",
        "  print(accuracy)\n",
        "  accuracies.append(accuracy)"
      ]
    },
    {
      "cell_type": "code",
      "execution_count": 140,
      "metadata": {
        "colab": {
          "base_uri": "https://localhost:8080/"
        },
        "id": "28oTgHJ6lZ9a",
        "outputId": "861e7452-3d66-42ff-b409-33d787d8eac9"
      },
      "outputs": [
        {
          "name": "stdout",
          "output_type": "stream",
          "text": [
            "125\n",
            "83.33333333333334\n"
          ]
        }
      ],
      "source": [
        "inputs = df.iloc[:,:4]\n",
        "outputs = df.iloc[:,4]\n",
        "accuratepredicts = 0\n",
        "inputs_scaled = scaler.fit_transform(inputs)\n",
        "inputs_scaled = np.insert(inputs_scaled,0,values=1,axis=1)\n",
        "\n",
        "for i in range(len(inputs_scaled)):\n",
        "  prob = []\n",
        "  for j in range(3):\n",
        "    z = inputs_scaled[i,:].dot(betas[j])\n",
        "    hypo = 1/(1+np.exp(-z))\n",
        "    prob.append(hypo)\n",
        "  \n",
        "  predict = prob.index(max(prob))\n",
        "  \n",
        "  if(outputs[i]== classes[predict]):\n",
        "    accuratepredicts += 1\n",
        "print(accuratepredicts)\n",
        "accuracy = (accuratepredicts/150)*100\n",
        "print(accuracy)"
      ]
    },
    {
      "cell_type": "markdown",
      "metadata": {
        "id": "kcIZqfq_0K4M"
      },
      "source": [
        "Q2 part 1"
      ]
    },
    {
      "cell_type": "code",
      "execution_count": 2,
      "metadata": {
        "id": "voon2m_84taa"
      },
      "outputs": [],
      "source": [
        "import pandas as pd\n",
        "import numpy as np"
      ]
    },
    {
      "cell_type": "code",
      "execution_count": 4,
      "metadata": {
        "colab": {
          "base_uri": "https://localhost:8080/",
          "height": 206
        },
        "id": "LarhczGp0MlL",
        "outputId": "93eaf0ad-b088-4655-c231-b0b67b7626b1"
      },
      "outputs": [
        {
          "data": {
            "text/html": [
              "\n",
              "  <div id=\"df-34fbdd95-13b5-42cf-a7a9-7302ad0177b5\">\n",
              "    <div class=\"colab-df-container\">\n",
              "      <div>\n",
              "<style scoped>\n",
              "    .dataframe tbody tr th:only-of-type {\n",
              "        vertical-align: middle;\n",
              "    }\n",
              "\n",
              "    .dataframe tbody tr th {\n",
              "        vertical-align: top;\n",
              "    }\n",
              "\n",
              "    .dataframe thead th {\n",
              "        text-align: right;\n",
              "    }\n",
              "</style>\n",
              "<table border=\"1\" class=\"dataframe\">\n",
              "  <thead>\n",
              "    <tr style=\"text-align: right;\">\n",
              "      <th></th>\n",
              "      <th>0</th>\n",
              "      <th>1</th>\n",
              "      <th>2</th>\n",
              "    </tr>\n",
              "  </thead>\n",
              "  <tbody>\n",
              "    <tr>\n",
              "      <th>0</th>\n",
              "      <td>0.051267</td>\n",
              "      <td>0.69956</td>\n",
              "      <td>1</td>\n",
              "    </tr>\n",
              "    <tr>\n",
              "      <th>1</th>\n",
              "      <td>-0.092742</td>\n",
              "      <td>0.68494</td>\n",
              "      <td>1</td>\n",
              "    </tr>\n",
              "    <tr>\n",
              "      <th>2</th>\n",
              "      <td>-0.213710</td>\n",
              "      <td>0.69225</td>\n",
              "      <td>1</td>\n",
              "    </tr>\n",
              "    <tr>\n",
              "      <th>3</th>\n",
              "      <td>-0.375000</td>\n",
              "      <td>0.50219</td>\n",
              "      <td>1</td>\n",
              "    </tr>\n",
              "    <tr>\n",
              "      <th>4</th>\n",
              "      <td>-0.513250</td>\n",
              "      <td>0.46564</td>\n",
              "      <td>1</td>\n",
              "    </tr>\n",
              "  </tbody>\n",
              "</table>\n",
              "</div>\n",
              "      <button class=\"colab-df-convert\" onclick=\"convertToInteractive('df-34fbdd95-13b5-42cf-a7a9-7302ad0177b5')\"\n",
              "              title=\"Convert this dataframe to an interactive table.\"\n",
              "              style=\"display:none;\">\n",
              "        \n",
              "  <svg xmlns=\"http://www.w3.org/2000/svg\" height=\"24px\"viewBox=\"0 0 24 24\"\n",
              "       width=\"24px\">\n",
              "    <path d=\"M0 0h24v24H0V0z\" fill=\"none\"/>\n",
              "    <path d=\"M18.56 5.44l.94 2.06.94-2.06 2.06-.94-2.06-.94-.94-2.06-.94 2.06-2.06.94zm-11 1L8.5 8.5l.94-2.06 2.06-.94-2.06-.94L8.5 2.5l-.94 2.06-2.06.94zm10 10l.94 2.06.94-2.06 2.06-.94-2.06-.94-.94-2.06-.94 2.06-2.06.94z\"/><path d=\"M17.41 7.96l-1.37-1.37c-.4-.4-.92-.59-1.43-.59-.52 0-1.04.2-1.43.59L10.3 9.45l-7.72 7.72c-.78.78-.78 2.05 0 2.83L4 21.41c.39.39.9.59 1.41.59.51 0 1.02-.2 1.41-.59l7.78-7.78 2.81-2.81c.8-.78.8-2.07 0-2.86zM5.41 20L4 18.59l7.72-7.72 1.47 1.35L5.41 20z\"/>\n",
              "  </svg>\n",
              "      </button>\n",
              "      \n",
              "  <style>\n",
              "    .colab-df-container {\n",
              "      display:flex;\n",
              "      flex-wrap:wrap;\n",
              "      gap: 12px;\n",
              "    }\n",
              "\n",
              "    .colab-df-convert {\n",
              "      background-color: #E8F0FE;\n",
              "      border: none;\n",
              "      border-radius: 50%;\n",
              "      cursor: pointer;\n",
              "      display: none;\n",
              "      fill: #1967D2;\n",
              "      height: 32px;\n",
              "      padding: 0 0 0 0;\n",
              "      width: 32px;\n",
              "    }\n",
              "\n",
              "    .colab-df-convert:hover {\n",
              "      background-color: #E2EBFA;\n",
              "      box-shadow: 0px 1px 2px rgba(60, 64, 67, 0.3), 0px 1px 3px 1px rgba(60, 64, 67, 0.15);\n",
              "      fill: #174EA6;\n",
              "    }\n",
              "\n",
              "    [theme=dark] .colab-df-convert {\n",
              "      background-color: #3B4455;\n",
              "      fill: #D2E3FC;\n",
              "    }\n",
              "\n",
              "    [theme=dark] .colab-df-convert:hover {\n",
              "      background-color: #434B5C;\n",
              "      box-shadow: 0px 1px 3px 1px rgba(0, 0, 0, 0.15);\n",
              "      filter: drop-shadow(0px 1px 2px rgba(0, 0, 0, 0.3));\n",
              "      fill: #FFFFFF;\n",
              "    }\n",
              "  </style>\n",
              "\n",
              "      <script>\n",
              "        const buttonEl =\n",
              "          document.querySelector('#df-34fbdd95-13b5-42cf-a7a9-7302ad0177b5 button.colab-df-convert');\n",
              "        buttonEl.style.display =\n",
              "          google.colab.kernel.accessAllowed ? 'block' : 'none';\n",
              "\n",
              "        async function convertToInteractive(key) {\n",
              "          const element = document.querySelector('#df-34fbdd95-13b5-42cf-a7a9-7302ad0177b5');\n",
              "          const dataTable =\n",
              "            await google.colab.kernel.invokeFunction('convertToInteractive',\n",
              "                                                     [key], {});\n",
              "          if (!dataTable) return;\n",
              "\n",
              "          const docLinkHtml = 'Like what you see? Visit the ' +\n",
              "            '<a target=\"_blank\" href=https://colab.research.google.com/notebooks/data_table.ipynb>data table notebook</a>'\n",
              "            + ' to learn more about interactive tables.';\n",
              "          element.innerHTML = '';\n",
              "          dataTable['output_type'] = 'display_data';\n",
              "          await google.colab.output.renderOutput(dataTable, element);\n",
              "          const docLink = document.createElement('div');\n",
              "          docLink.innerHTML = docLinkHtml;\n",
              "          element.appendChild(docLink);\n",
              "        }\n",
              "      </script>\n",
              "    </div>\n",
              "  </div>\n",
              "  "
            ],
            "text/plain": [
              "          0        1  2\n",
              "0  0.051267  0.69956  1\n",
              "1 -0.092742  0.68494  1\n",
              "2 -0.213710  0.69225  1\n",
              "3 -0.375000  0.50219  1\n",
              "4 -0.513250  0.46564  1"
            ]
          },
          "execution_count": 4,
          "metadata": {},
          "output_type": "execute_result"
        }
      ],
      "source": [
        "df = pd.read_table('/content/drive/MyDrive/ML_Lab/exam6.txt',sep=\",\",header=None)\n",
        "df.head()"
      ]
    },
    {
      "cell_type": "code",
      "execution_count": 6,
      "metadata": {
        "colab": {
          "base_uri": "https://localhost:8080/"
        },
        "id": "4JuezUAG43Gp",
        "outputId": "d6055198-893b-4e6b-b0e9-aca885e0e426"
      },
      "outputs": [
        {
          "data": {
            "text/plain": [
              "0    0\n",
              "1    0\n",
              "2    0\n",
              "dtype: int64"
            ]
          },
          "execution_count": 6,
          "metadata": {},
          "output_type": "execute_result"
        }
      ],
      "source": [
        "df.isna().sum()"
      ]
    },
    {
      "cell_type": "code",
      "execution_count": 8,
      "metadata": {
        "colab": {
          "base_uri": "https://localhost:8080/"
        },
        "id": "zRP6JorF4-IY",
        "outputId": "54378e06-d156-4b54-f7bc-cfa0e7728640"
      },
      "outputs": [
        {
          "data": {
            "text/plain": [
              "(118, 3)"
            ]
          },
          "execution_count": 8,
          "metadata": {},
          "output_type": "execute_result"
        }
      ],
      "source": [
        "from sklearn.preprocessing import StandardScaler\n",
        "x = df.iloc[:,:2]\n",
        "y = df.iloc[:,2]\n",
        "scaler = StandardScaler()\n",
        "x_scaled = scaler.fit_transform(x)\n",
        "x_scaled = np.insert(x_scaled,0,values=1,axis=1)\n",
        "\n",
        "x_scaled.shape"
      ]
    },
    {
      "cell_type": "code",
      "execution_count": 9,
      "metadata": {
        "colab": {
          "base_uri": "https://localhost:8080/"
        },
        "id": "HAk7CquC5eJy",
        "outputId": "09577d7f-f73b-4460-e35a-aee80aa9ec05"
      },
      "outputs": [
        {
          "data": {
            "text/plain": [
              "(82, 3)"
            ]
          },
          "execution_count": 9,
          "metadata": {},
          "output_type": "execute_result"
        }
      ],
      "source": [
        "from sklearn.model_selection import train_test_split\n",
        "x_train,x_test,y_train,y_test = train_test_split(x_scaled,y,test_size=0.3,random_state=42)\n",
        "x_train.shape"
      ]
    },
    {
      "cell_type": "code",
      "execution_count": 15,
      "metadata": {
        "id": "gDdOyvFn7ivN"
      },
      "outputs": [],
      "source": [
        "from sklearn.preprocessing import PolynomialFeatures\n",
        "poly = PolynomialFeatures(degree = 6, interaction_only=False, include_bias=False)\n",
        "x_train = poly.fit_transform(x_train)\n",
        "x_test = poly.fit_transform(x_test)"
      ]
    },
    {
      "cell_type": "code",
      "execution_count": 16,
      "metadata": {
        "colab": {
          "base_uri": "https://localhost:8080/"
        },
        "id": "HvX7B3m358Jy",
        "outputId": "726f6076-496a-41fd-e596-481b2c065d08"
      },
      "outputs": [
        {
          "name": "stderr",
          "output_type": "stream",
          "text": [
            "/usr/local/lib/python3.7/dist-packages/ipykernel_launcher.py:8: RuntimeWarning: overflow encountered in exp\n",
            "  \n"
          ]
        },
        {
          "name": "stdout",
          "output_type": "stream",
          "text": [
            "[  0.28072924  -3.59443672   0.77039761   0.28072924  -3.59443672\n",
            "   0.77039761  -1.86237737  -0.0735327    4.31773641   0.28072924\n",
            "  -3.59443672   0.77039761  -1.86237737  -0.0735327    4.31773641\n",
            "   3.61031171  13.32989994   1.06291757  -3.65256312   0.28072924\n",
            "  -3.59443672   0.77039761  -1.86237737  -0.0735327    4.31773641\n",
            "   3.61031171  13.32989994   1.06291757  -3.65256312  16.03431259\n",
            "  -2.2554008   -7.63288276  -2.78798506   1.03780114   0.28072924\n",
            "  -3.59443672   0.77039761  -1.86237737  -0.0735327    4.31773641\n",
            "   3.61031171  13.32989994   1.06291757  -3.65256312  16.03431259\n",
            "  -2.2554008   -7.63288276  -2.78798506   1.03780114  -1.85312342\n",
            "  -7.44662275   3.99239177 -11.88438672  -3.81810431   6.25498723\n",
            "   0.28072924  -3.59443672   0.77039761  -1.86237737  -0.0735327\n",
            "   4.31773641   3.61031171  13.32989994   1.06291757  -3.65256312\n",
            "  16.03431259  -2.2554008   -7.63288276  -2.78798506   1.03780114\n",
            "  -1.85312342  -7.44662275   3.99239177 -11.88438672  -3.81810431\n",
            "   6.25498723 -23.70777402  -1.27796519 -14.31798977  -1.32911137\n",
            " -16.16138888  -7.90461684 -18.63791187]\n"
          ]
        }
      ],
      "source": [
        "n = 1000\n",
        "alpha = 10\n",
        "m,k = x_train.shape\n",
        "beta = np.zeros(k)\n",
        "for i in range(n):\n",
        "    cost_gradient = np.zeros(k)\n",
        "    z = x_train.dot(beta)\n",
        "    predicted = 1/(1+np.exp(-z))\n",
        "    difference = predicted - y_train\n",
        "    for j in range(k):\n",
        "        cost_gradient[j] = np.sum(difference.dot(x_train[:,j]))\n",
        "    for j in range(k):\n",
        "        beta[j] = beta[j] - (alpha/m)*cost_gradient[j]\n",
        "print(beta)"
      ]
    },
    {
      "cell_type": "code",
      "execution_count": 17,
      "metadata": {
        "colab": {
          "base_uri": "https://localhost:8080/"
        },
        "id": "c1MlBYsY7JnL",
        "outputId": "472b7dd1-8d72-45fb-ec7a-937cadc48683"
      },
      "outputs": [
        {
          "data": {
            "text/plain": [
              "array([1., 0., 1., 1., 0., 0., 0., 0., 0., 0., 1., 0., 0., 0., 0., 1., 1.,\n",
              "       1., 0., 0., 0., 0., 0., 1., 1., 0., 1., 0., 1., 0., 0., 0., 1., 1.,\n",
              "       0., 0.])"
            ]
          },
          "execution_count": 17,
          "metadata": {},
          "output_type": "execute_result"
        }
      ],
      "source": [
        "y_pred = 1/(1+np.exp(-(x_test.dot(beta))))\n",
        "y_label = np.zeros(len(y_pred))\n",
        "for i in range(len(y_pred)):\n",
        "    if(y_pred[i]>=0.5):\n",
        "        y_label[i]=1\n",
        "y_label"
      ]
    },
    {
      "cell_type": "code",
      "execution_count": 18,
      "metadata": {
        "colab": {
          "base_uri": "https://localhost:8080/"
        },
        "id": "OY5_X2lQ7Nnh",
        "outputId": "fa09c71a-c045-4389-9d0b-f1db1d81e388"
      },
      "outputs": [
        {
          "name": "stdout",
          "output_type": "stream",
          "text": [
            "True Positive =  11\n",
            "True Negative =  14\n",
            "False Positive =  2\n",
            "False Negative =  9\n",
            "Accuracy :  0.6944444444444444\n"
          ]
        }
      ],
      "source": [
        "tp = 0\n",
        "tn = 0\n",
        "fp = 0\n",
        "fn = 0\n",
        "y_test = np.array(y_test).reshape(-1,1)\n",
        "for i in range(len(y_label)):\n",
        "    if(y_test[i]==1 and y_label[i]==1):\n",
        "        tp+=1\n",
        "    if(y_test[i]==1 and y_label[i]==0):\n",
        "        fn+=1\n",
        "    if(y_test[i]==0 and y_label[i]==0):\n",
        "        tn+=1\n",
        "    if(y_test[i]==0 and y_label[i]==1):\n",
        "        fp+=1\n",
        "print(\"True Positive = \", tp)\n",
        "print(\"True Negative = \", tn)\n",
        "print(\"False Positive = \", fp)\n",
        "print(\"False Negative = \", fn)\n",
        "accuracy=(tp+tn)/(tp+tn+fp+fn)\n",
        "print(\"Accuracy : \",accuracy)"
      ]
    },
    {
      "cell_type": "code",
      "execution_count": 19,
      "metadata": {
        "colab": {
          "base_uri": "https://localhost:8080/"
        },
        "id": "CncjAw4v7or9",
        "outputId": "572bfab2-7892-42ba-c8a0-db10a7d445be"
      },
      "outputs": [
        {
          "name": "stdout",
          "output_type": "stream",
          "text": [
            "Precision Positive =  0.8461538461538461\n",
            "Recall Positive =  0.55\n",
            "F1_Score Positive =  0.6666666666666667\n",
            "Precision Negative =  0.6086956521739131\n",
            "Recall Negative =  0.875\n",
            "F1_Score Negative =  0.6666666666666667\n"
          ]
        }
      ],
      "source": [
        "precision_pos = tp/(tp+fp)\n",
        "recall_pos = tp/(tp+fn)\n",
        "f1_score_pos = 2*precision_pos*recall_pos/(precision_pos+recall_pos)\n",
        "\n",
        "precision_neg = tn/(tn+fn)\n",
        "recall_neg = tn/(tn+fp)\n",
        "f1_score_neg = 2*precision_neg*recall_neg/(precision_neg+recall_neg)\n",
        "print(\"Precision Positive = \", precision_pos)\n",
        "print(\"Recall Positive = \", recall_pos)\n",
        "print(\"F1_Score Positive = \", f1_score_pos)\n",
        "print(\"Precision Negative = \", precision_neg)\n",
        "print(\"Recall Negative = \", recall_neg)\n",
        "print(\"F1_Score Negative = \", f1_score_pos)"
      ]
    },
    {
      "cell_type": "code",
      "execution_count": 20,
      "metadata": {
        "colab": {
          "base_uri": "https://localhost:8080/"
        },
        "id": "5YMhFMAv7zFz",
        "outputId": "7d05dc59-3768-4b8b-d23b-b23ab11bee4e"
      },
      "outputs": [
        {
          "name": "stdout",
          "output_type": "stream",
          "text": [
            "Macro Precision =  0.7274247491638797\n",
            "Macro Recall =  0.7125\n",
            "Macro F1_Score =  0.6923076923076923\n"
          ]
        }
      ],
      "source": [
        "macro_precision = (precision_pos + precision_neg)/2\n",
        "macro_recall = (recall_pos + recall_neg)/2\n",
        "macro_f1_score = (f1_score_pos + f1_score_neg)/2\n",
        "print(\"Macro Precision = \", macro_precision)\n",
        "print(\"Macro Recall = \", macro_recall)\n",
        "print(\"Macro F1_Score = \", macro_f1_score)"
      ]
    },
    {
      "cell_type": "markdown",
      "metadata": {
        "id": "eAdA3AJC73WM"
      },
      "source": [
        "Q2 part 2"
      ]
    },
    {
      "cell_type": "code",
      "execution_count": 21,
      "metadata": {
        "id": "3QUSe8gT75tt"
      },
      "outputs": [],
      "source": [
        "lambda_val = 0.2\n",
        "A = x_train.T.dot(x_train)\n",
        "I = np.identity(A.shape[0])\n",
        "B = A + lambda_val * I\n",
        "C = np.linalg.inv(B)\n",
        "D = C.dot(x_train.T)\n",
        "beta = D.dot(y_train)"
      ]
    },
    {
      "cell_type": "code",
      "execution_count": 22,
      "metadata": {
        "colab": {
          "base_uri": "https://localhost:8080/"
        },
        "id": "oOlcNt7979B3",
        "outputId": "2884cdbf-5e68-47ce-86bb-e907e7908193"
      },
      "outputs": [
        {
          "name": "stderr",
          "output_type": "stream",
          "text": [
            "/usr/local/lib/python3.7/dist-packages/ipykernel_launcher.py:7: RuntimeWarning: overflow encountered in exp\n",
            "  import sys\n"
          ]
        },
        {
          "name": "stdout",
          "output_type": "stream",
          "text": [
            "[  1.80545544  -2.39563398  -0.41599118   1.80545544  -2.39563398\n",
            "  -0.41599118  -0.4090932   -0.46311724   6.06522759   1.80545544\n",
            "  -2.39563398  -0.41599118  -0.4090932   -0.46311724   6.06522759\n",
            "   4.91551045  12.42416606   1.3731632   -4.94668349   1.80545544\n",
            "  -2.39563398  -0.41599118  -0.4090932   -0.46311724   6.06522759\n",
            "   4.91551045  12.42416606   1.3731632   -4.94668349  16.85901742\n",
            "  -2.92235285  -6.4492812   -3.09396815   3.23794329   1.80545544\n",
            "  -2.39563398  -0.41599118  -0.4090932   -0.46311724   6.06522759\n",
            "   4.91551045  12.42416606   1.3731632   -4.94668349  16.85901742\n",
            "  -2.92235285  -6.4492812   -3.09396815   3.23794329  -1.29792627\n",
            "  -7.1979337    3.41819634 -11.69359872  -3.53381239   3.10430577\n",
            "   1.80545544  -2.39563398  -0.41599118  -0.4090932   -0.46311724\n",
            "   6.06522759   4.91551045  12.42416606   1.3731632   -4.94668349\n",
            "  16.85901742  -2.92235285  -6.4492812   -3.09396815   3.23794329\n",
            "  -1.29792627  -7.1979337    3.41819634 -11.69359872  -3.53381239\n",
            "   3.10430577 -21.51734231   0.23867142 -15.03389879  -0.84090506\n",
            " -14.09505694  -7.81242229 -14.01205529]\n"
          ]
        }
      ],
      "source": [
        "n = 1000\n",
        "alpha = 10\n",
        "m,k = x_train.shape\n",
        "for i in range(n):\n",
        "    cost_gradient = np.zeros(k)\n",
        "    z = x_train.dot(beta)\n",
        "    predicted = 1/(1+np.exp(-z))\n",
        "    difference = predicted - y_train\n",
        "    for j in range(k):\n",
        "        cost_gradient[j] = np.sum(difference.dot(x_train[:,j]))\n",
        "    for j in range(k):\n",
        "        beta[j] = beta[j] - (alpha/m)*cost_gradient[j]\n",
        "print(beta)"
      ]
    },
    {
      "cell_type": "code",
      "execution_count": 23,
      "metadata": {
        "colab": {
          "base_uri": "https://localhost:8080/"
        },
        "id": "ZAUhJjFj8By7",
        "outputId": "b737b248-be6e-4ad9-db65-e481480af1c6"
      },
      "outputs": [
        {
          "data": {
            "text/plain": [
              "array([1., 0., 1., 1., 1., 0., 0., 1., 0., 0., 1., 0., 1., 0., 1., 1., 1.,\n",
              "       1., 0., 0., 1., 1., 0., 1., 1., 1., 1., 0., 1., 1., 1., 1., 1., 1.,\n",
              "       1., 0.])"
            ]
          },
          "execution_count": 23,
          "metadata": {},
          "output_type": "execute_result"
        }
      ],
      "source": [
        "y_pred = 1/(1+np.exp(-(x_test.dot(beta))))\n",
        "y_label = np.zeros(len(y_pred))\n",
        "for i in range(len(y_pred)):\n",
        "    if(y_pred[i]>=0.5):\n",
        "        y_label[i]=1\n",
        "y_label"
      ]
    },
    {
      "cell_type": "code",
      "execution_count": 24,
      "metadata": {
        "colab": {
          "base_uri": "https://localhost:8080/"
        },
        "id": "Xq3TQP9R8G71",
        "outputId": "cf443947-fa4c-492e-b3db-021afdd694c5"
      },
      "outputs": [
        {
          "name": "stdout",
          "output_type": "stream",
          "text": [
            "True Positive =  19\n",
            "True Negative =  11\n",
            "False Positive =  5\n",
            "False Negative =  1\n",
            "Accuracy :  0.8333333333333334\n"
          ]
        }
      ],
      "source": [
        "tp = 0\n",
        "tn = 0\n",
        "fp = 0\n",
        "fn = 0\n",
        "y_test = np.array(y_test).reshape(-1,1)\n",
        "for i in range(len(y_label)):\n",
        "    if(y_test[i]==1 and y_label[i]==1):\n",
        "        tp+=1\n",
        "    if(y_test[i]==1 and y_label[i]==0):\n",
        "        fn+=1\n",
        "    if(y_test[i]==0 and y_label[i]==0):\n",
        "        tn+=1\n",
        "    if(y_test[i]==0 and y_label[i]==1):\n",
        "        fp+=1\n",
        "print(\"True Positive = \", tp)\n",
        "print(\"True Negative = \", tn)\n",
        "print(\"False Positive = \", fp)\n",
        "print(\"False Negative = \", fn)\n",
        "accuracy=(tp+tn)/(tp+tn+fp+fn)\n",
        "print(\"Accuracy : \",accuracy)"
      ]
    },
    {
      "cell_type": "code",
      "execution_count": 25,
      "metadata": {
        "colab": {
          "base_uri": "https://localhost:8080/"
        },
        "id": "Z84KyGk28L6r",
        "outputId": "b6733438-b7be-4940-ed99-477f96950798"
      },
      "outputs": [
        {
          "name": "stdout",
          "output_type": "stream",
          "text": [
            "Precision Positive =  0.7916666666666666\n",
            "Recall Positive =  0.95\n",
            "F1_Score Positive =  0.8636363636363635\n",
            "Precision Negative =  0.9166666666666666\n",
            "Recall Negative =  0.6875\n",
            "F1_Score Negative =  0.8636363636363635\n"
          ]
        }
      ],
      "source": [
        "precision_pos = tp/(tp+fp)\n",
        "recall_pos = tp/(tp+fn)\n",
        "f1_score_pos = 2*precision_pos*recall_pos/(precision_pos+recall_pos)\n",
        "\n",
        "precision_neg = tn/(tn+fn)\n",
        "recall_neg = tn/(tn+fp)\n",
        "f1_score_neg = 2*precision_neg*recall_neg/(precision_neg+recall_neg)\n",
        "print(\"Precision Positive = \", precision_pos)\n",
        "print(\"Recall Positive = \", recall_pos)\n",
        "print(\"F1_Score Positive = \", f1_score_pos)\n",
        "print(\"Precision Negative = \", precision_neg)\n",
        "print(\"Recall Negative = \", recall_neg)\n",
        "print(\"F1_Score Negative = \", f1_score_pos)"
      ]
    },
    {
      "cell_type": "code",
      "execution_count": 26,
      "metadata": {
        "colab": {
          "base_uri": "https://localhost:8080/"
        },
        "id": "usyuZwCw8OhA",
        "outputId": "7625d4ed-c45e-46cd-8ee6-5fbc531faff1"
      },
      "outputs": [
        {
          "name": "stdout",
          "output_type": "stream",
          "text": [
            "Macro Precision =  0.8541666666666666\n",
            "Macro Recall =  0.81875\n",
            "Macro F1_Score =  0.8246753246753247\n"
          ]
        }
      ],
      "source": [
        "macro_precision = (precision_pos + precision_neg)/2\n",
        "macro_recall = (recall_pos + recall_neg)/2\n",
        "macro_f1_score = (f1_score_pos + f1_score_neg)/2\n",
        "print(\"Macro Precision = \", macro_precision)\n",
        "print(\"Macro Recall = \", macro_recall)\n",
        "print(\"Macro F1_Score = \", macro_f1_score)"
      ]
    }
  ],
  "metadata": {
    "colab": {
      "provenance": []
    },
    "kernelspec": {
      "display_name": "Python 3",
      "name": "python3"
    },
    "language_info": {
      "name": "python"
    }
  },
  "nbformat": 4,
  "nbformat_minor": 0
}
